{
 "cells": [
  {
   "cell_type": "code",
   "execution_count": 31,
   "metadata": {},
   "outputs": [],
   "source": [
    "import pandas as pd\n",
    "import numpy as np"
   ]
  },
  {
   "cell_type": "code",
   "execution_count": 8,
   "metadata": {},
   "outputs": [],
   "source": [
    "stm = pd.read_csv('RMRB_p10/stm/topic_names-p10sample_1.csv')\n",
    "stm\n",
    "\n",
    "with open('RMRB_p10/stm/topic_names-p10sample_1.csv', 'r') as f:\n",
    "    stm = f.readlines()"
   ]
  },
  {
   "cell_type": "code",
   "execution_count": 29,
   "metadata": {},
   "outputs": [],
   "source": [
    "stm_full = ' '.join(stm[1:]).split()\n",
    "# len(''.join(stm_full)) / len(stm_full)"
   ]
  },
  {
   "cell_type": "code",
   "execution_count": 34,
   "metadata": {},
   "outputs": [
    {
     "data": {
      "text/plain": [
       "0.788416133777081"
      ]
     },
     "execution_count": 34,
     "metadata": {},
     "output_type": "execute_result"
    }
   ],
   "source": [
    "np.std([len(i) for i in stm_full])"
   ]
  },
  {
   "cell_type": "code",
   "execution_count": 17,
   "metadata": {},
   "outputs": [],
   "source": [
    "# tm = pd.read_csv('RMRB_p10/tm/RMRB_p10_topics_topic_map.txt', sep=' ')\n",
    "\n",
    "with open('RMRB_p10/tm/RMRB_p10_topics_topic_map.txt', 'r') as f:\n",
    "    tm = f.readlines()"
   ]
  },
  {
   "cell_type": "code",
   "execution_count": 35,
   "metadata": {},
   "outputs": [
    {
     "data": {
      "text/plain": [
       "2.0900000000000007"
      ]
     },
     "execution_count": 35,
     "metadata": {},
     "output_type": "execute_result"
    }
   ],
   "source": [
    "sum([sum([len(word) for word in l])/10 for l in [i.split(',') for i in ' '.join(tm[1:]).split()]]) / 50 \n",
    "\n"
   ]
  },
  {
   "cell_type": "code",
   "execution_count": 36,
   "metadata": {},
   "outputs": [
    {
     "data": {
      "text/plain": [
       "104.50000000000003"
      ]
     },
     "execution_count": 36,
     "metadata": {},
     "output_type": "execute_result"
    }
   ],
   "source": [
    "sum([np.std([len(word) for word in l])/10 for l in [i.split(',') for i in ' '.join(tm[1:]).split()]])"
   ]
  },
  {
   "cell_type": "code",
   "execution_count": 46,
   "metadata": {},
   "outputs": [],
   "source": [
    "import re"
   ]
  },
  {
   "cell_type": "code",
   "execution_count": 45,
   "metadata": {},
   "outputs": [
    {
     "data": {
      "text/plain": [
       "[' 规定,国家,法律,管理,制度,单位,实行,应,进行,应当\\n 工人,青年,劳动,职工,参加,工会,工作,工厂,全国,工人阶级\\n 代表团,中国,访问,驻,会见,新华社,主席,我国,总理,大使\\n 研究,技术,科学,我国,专家,进行,医院,新,科学家,发现\\n 问题,会议,国家,国际,建议,解决,联合国,和平,提出,谈判\\n 文化,研究,出版,历史,中国,文章,读者,写,作者,理论\\n 安全,运输,铁路,汽车,发生,飞机,旅客,号,站,时间\\n 市场,产品,商品,生产,供应,公司,经营,价格,服务,收购\\n 社员,生产,公社,大队,生产队,干部,劳动,全县,群众,集体\\n 革命,毛主席,群众,学习,毛泽东思想,斗争,无产阶级,批判,思想,贫下中农\\n 以色列,埃及,伊拉克,阿拉伯,伊朗,巴勒斯坦,阿富汗,巴基斯坦,黎巴嫩,报道\\n 农民,农村,群众,生产,合作社,村,农业,土地,乡,组织\\n 社会主义,革命,党,斗争,人民,资产阶级,社会,思想,资本主义,政治\\n 法国,英国,德国,欧洲,西德,意大利,巴黎,俄罗斯,国际,加拿大\\n 中国,台湾,香港,我国,华侨,大陆,澳门,先生,国际,中国政府\\n 发展,经济,我国,市场,新,社会,改革,建立,技术,实现\\n 苏联,国家,波兰,莫斯科,南斯拉夫,匈牙利,罗马尼亚,社会主义,捷克斯洛伐克,苏\\n 生产,工人,工厂,厂,技术,职工,提高,新,车间,计划\\n 工程,建设,施工,设计,建成,完成,工地,国家,建筑,投资\\n 妇女,东北,政府,人民,均,达,去年,恢复,现在,间\\n 企业,公司,经济,投资,资金,产品,银行,亿元,管理,集团\\n 建设,发展,社会主义,新,思想,人民,政治,理论,社会,党\\n 工作,改革,加强,问题,全国,部门,要求,管理,建设,进一步\\n 没有,里,同志,想,走,现在,起来,孩子,吃,没\\n 问题,没有,不能,这种,认为,应该,可能,现在,需要,必须\\n 工作,进行,组织,领导,群众,思想,问题,学习,运动,经验\\n 中国,发展,合作,关系,经济,会见,双方,访问,加强,表示\\n 比赛,体育,中国,运动员,选手,队,参加,世界,成绩,今天\\n 朝鲜,越南,柬埔寨,人民,老挝,泰国,越南 南方,南越,政府,进行\\n 今年,农业,粮食,生产,地区,去年,棉花,各地,增产,产量\\n 要求,人民,政府,反对,举行,学生,斗争,罢工,群众,抗议\\n 日本,亚洲,中国,东京,缅甸,韩国,中日,日本政府,条约,和平\\n 干部,领导,工作,群众,同志,党,问题,党员,思想,学习\\n 经济,增加,国家,增长,世界,出口,今年,去年,占,减少\\n 地区,开发,发展,保护,山区,林业,草原,资源,利用,水\\n 里,没有,生活,一位,看到,祖国,生命,这是,历史,精神\\n 民族,西藏,新华社,少数民族,女,广州,地区,新疆,全省,广东\\n 调查,处理,检查,进行,问题,部门,案件,严重,单位,发现\\n 活动,社会,服务,开展,工作,全市,名,组织,全国,群众\\n 人民,中国,同志,伟大,胜利,革命,建设,社会主义,祖国,事业\\n 教育,学生,学校,学习,教师,培养,孩子,文化,教学,大学\\n 人民,斗争,和平,国家,帝国主义,世界,侵略,反对,美帝国主义,进行\\n 非洲,政府,总统,印度尼西亚,国家,阿尔及利亚,选举,南非,宣布,独立\\n 北京,上海,中国,举行,全国,举办,活动,国际,今天,新闻\\n 发展,生产,农业,工业,国家,建设,我国,经济,社会主义,需要\\n 部队,战士,敌人,军队,战斗,军事,解放军,地区,民兵,人民\\n 会议,代表,委员会,大会,报告,举行,召开,委员,参加,工作\\n 艺术,演出,文化,生活,作品,文艺,创作,观众,表现,电影\\n 美国,印度,进行,军事,这种,政策,已经,计划,美,所谓\\n 城市,记者,居民,旅游,建筑,市民,参观,里,中心,文物\\n']"
      ]
     },
     "execution_count": 45,
     "metadata": {},
     "output_type": "execute_result"
    }
   ],
   "source": [
    "re.split(', |_|-|!', ' '.join(tm[1:])) \n",
    "\n",
    "' '.join(tm[1:]).split(' ,|\\n')"
   ]
  },
  {
   "cell_type": "code",
   "execution_count": null,
   "metadata": {},
   "outputs": [],
   "source": []
  }
 ],
 "metadata": {
  "kernelspec": {
   "display_name": "Python 3",
   "language": "python",
   "name": "python3"
  },
  "language_info": {
   "codemirror_mode": {
    "name": "ipython",
    "version": 3
   },
   "file_extension": ".py",
   "mimetype": "text/x-python",
   "name": "python",
   "nbconvert_exporter": "python",
   "pygments_lexer": "ipython3",
   "version": "3.8.5"
  }
 },
 "nbformat": 4,
 "nbformat_minor": 4
}
