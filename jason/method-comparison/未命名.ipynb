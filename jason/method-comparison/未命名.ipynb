{
 "cells": [
  {
   "cell_type": "markdown",
   "metadata": {},
   "source": [
    "## mean year and variance of year all the 50 topics"
   ]
  },
  {
   "cell_type": "code",
   "execution_count": 114,
   "metadata": {},
   "outputs": [],
   "source": [
    "import pandas as pd\n",
    "import numpy as np\n",
    "import tqdm"
   ]
  },
  {
   "cell_type": "code",
   "execution_count": 65,
   "metadata": {},
   "outputs": [],
   "source": [
    "st = pd.read_csv('stm-doc_topic-test1.csv', sep=' ')\n",
    "res = pd.DataFrame({'stm_mean': np.zeros(50), \n",
    "                    'stm_sd': np.zeros(50),\n",
    "                    'ch_mean': np.zeros(50),\n",
    "                    'ch_sd': np.zeros(50),}) "
   ]
  },
  {
   "cell_type": "code",
   "execution_count": 66,
   "metadata": {},
   "outputs": [],
   "source": [
    "for i in range(1,51):\n",
    "    st['doc_topic.' + str(i)] = st['doc_topic.' + str(i)].apply(lambda x: x > 0.01)"
   ]
  },
  {
   "cell_type": "code",
   "execution_count": 67,
   "metadata": {},
   "outputs": [],
   "source": [
    "for i in range(1,51):\n",
    "    res.iloc[i-1]['stm_mean'] = st[st['doc_topic.' + str(i)]]['meta$date'].mean()\n",
    "    res.iloc[i-1]['stm_sd'] = st[st['doc_topic.' + str(i)]]['meta$date'].std()"
   ]
  },
  {
   "cell_type": "code",
   "execution_count": 68,
   "metadata": {},
   "outputs": [
    {
     "data": {
      "text/plain": [
       "1974.58"
      ]
     },
     "execution_count": 68,
     "metadata": {},
     "output_type": "execute_result"
    }
   ],
   "source": [
    "res.iloc[49]['stm_mean']"
   ]
  },
  {
   "cell_type": "code",
   "execution_count": null,
   "metadata": {},
   "outputs": [],
   "source": []
  },
  {
   "cell_type": "code",
   "execution_count": null,
   "metadata": {},
   "outputs": [],
   "source": []
  },
  {
   "cell_type": "code",
   "execution_count": 111,
   "metadata": {},
   "outputs": [],
   "source": [
    "with open('/Users/admin/Desktop/NLP-win-21/jason/method-comparison/ch-RMRB_p10_topics_output_articles.txt', 'r') as f:\n",
    "    chtext = f.readlines()\n",
    "ch_topic_year = {}"
   ]
  },
  {
   "cell_type": "code",
   "execution_count": 115,
   "metadata": {},
   "outputs": [
    {
     "name": "stderr",
     "output_type": "stream",
     "text": [
      "100%|██████████| 131951/131951 [00:00<00:00, 249942.24it/s]\n"
     ]
    }
   ],
   "source": [
    "c = 0\n",
    "for line in tqdm.tqdm(chtext):\n",
    "    yr_num = int(line[:4])\n",
    "    tpc_list = [int(i) for i in line[7:-3].split(', ')] \n",
    "    for tpc in tpc_list:\n",
    "        if tpc in ch_topic_year.keys():\n",
    "            ch_topic_year[tpc].append(yr_num)\n",
    "        else:\n",
    "            ch_topic_year[tpc] = []\n",
    "            ch_topic_year[tpc].append(yr_num)"
   ]
  },
  {
   "cell_type": "code",
   "execution_count": 120,
   "metadata": {},
   "outputs": [],
   "source": [
    "for i in range(1,51):\n",
    "    res.iloc[i-1]['ch_mean'] = np.mean(ch_topic_year[i-1])\n",
    "    res.iloc[i-1]['ch_sd'] = np.std(ch_topic_year[i-1])"
   ]
  },
  {
   "cell_type": "code",
   "execution_count": 127,
   "metadata": {},
   "outputs": [
    {
     "data": {
      "text/html": [
       "<div>\n",
       "<style scoped>\n",
       "    .dataframe tbody tr th:only-of-type {\n",
       "        vertical-align: middle;\n",
       "    }\n",
       "\n",
       "    .dataframe tbody tr th {\n",
       "        vertical-align: top;\n",
       "    }\n",
       "\n",
       "    .dataframe thead th {\n",
       "        text-align: right;\n",
       "    }\n",
       "</style>\n",
       "<table border=\"1\" class=\"dataframe\">\n",
       "  <thead>\n",
       "    <tr style=\"text-align: right;\">\n",
       "      <th></th>\n",
       "      <th>stm_mean</th>\n",
       "      <th>stm_sd</th>\n",
       "      <th>ch_mean</th>\n",
       "      <th>ch_sd</th>\n",
       "    </tr>\n",
       "  </thead>\n",
       "  <tbody>\n",
       "    <tr>\n",
       "      <th>0</th>\n",
       "      <td>1966.684211</td>\n",
       "      <td>11.156888</td>\n",
       "      <td>1977.701620</td>\n",
       "      <td>18.530606</td>\n",
       "    </tr>\n",
       "    <tr>\n",
       "      <th>1</th>\n",
       "      <td>1983.504298</td>\n",
       "      <td>12.480242</td>\n",
       "      <td>1968.023447</td>\n",
       "      <td>15.983128</td>\n",
       "    </tr>\n",
       "    <tr>\n",
       "      <th>2</th>\n",
       "      <td>1964.066265</td>\n",
       "      <td>8.887041</td>\n",
       "      <td>1973.390667</td>\n",
       "      <td>14.301116</td>\n",
       "    </tr>\n",
       "    <tr>\n",
       "      <th>3</th>\n",
       "      <td>1981.893750</td>\n",
       "      <td>13.012620</td>\n",
       "      <td>1979.934018</td>\n",
       "      <td>16.577174</td>\n",
       "    </tr>\n",
       "    <tr>\n",
       "      <th>4</th>\n",
       "      <td>1970.638298</td>\n",
       "      <td>15.438947</td>\n",
       "      <td>1974.918955</td>\n",
       "      <td>16.915496</td>\n",
       "    </tr>\n",
       "    <tr>\n",
       "      <th>5</th>\n",
       "      <td>1989.756532</td>\n",
       "      <td>11.307668</td>\n",
       "      <td>1977.221960</td>\n",
       "      <td>17.520710</td>\n",
       "    </tr>\n",
       "    <tr>\n",
       "      <th>6</th>\n",
       "      <td>1968.268293</td>\n",
       "      <td>10.671352</td>\n",
       "      <td>1975.867802</td>\n",
       "      <td>17.637467</td>\n",
       "    </tr>\n",
       "    <tr>\n",
       "      <th>7</th>\n",
       "      <td>1971.071685</td>\n",
       "      <td>6.318457</td>\n",
       "      <td>1977.901962</td>\n",
       "      <td>17.410520</td>\n",
       "    </tr>\n",
       "    <tr>\n",
       "      <th>8</th>\n",
       "      <td>1969.400510</td>\n",
       "      <td>6.810951</td>\n",
       "      <td>1971.220002</td>\n",
       "      <td>13.847246</td>\n",
       "    </tr>\n",
       "    <tr>\n",
       "      <th>9</th>\n",
       "      <td>1967.239845</td>\n",
       "      <td>18.550280</td>\n",
       "      <td>1971.466784</td>\n",
       "      <td>11.564397</td>\n",
       "    </tr>\n",
       "    <tr>\n",
       "      <th>10</th>\n",
       "      <td>1972.117647</td>\n",
       "      <td>17.956104</td>\n",
       "      <td>1978.176012</td>\n",
       "      <td>15.726005</td>\n",
       "    </tr>\n",
       "    <tr>\n",
       "      <th>11</th>\n",
       "      <td>1982.409539</td>\n",
       "      <td>13.477727</td>\n",
       "      <td>1971.291652</td>\n",
       "      <td>18.653106</td>\n",
       "    </tr>\n",
       "    <tr>\n",
       "      <th>12</th>\n",
       "      <td>1970.174383</td>\n",
       "      <td>19.067411</td>\n",
       "      <td>1969.730044</td>\n",
       "      <td>15.322630</td>\n",
       "    </tr>\n",
       "    <tr>\n",
       "      <th>13</th>\n",
       "      <td>1983.659259</td>\n",
       "      <td>9.254086</td>\n",
       "      <td>1976.481638</td>\n",
       "      <td>17.013342</td>\n",
       "    </tr>\n",
       "    <tr>\n",
       "      <th>14</th>\n",
       "      <td>1981.176471</td>\n",
       "      <td>9.324259</td>\n",
       "      <td>1978.374644</td>\n",
       "      <td>17.610482</td>\n",
       "    </tr>\n",
       "    <tr>\n",
       "      <th>15</th>\n",
       "      <td>1981.412556</td>\n",
       "      <td>17.169012</td>\n",
       "      <td>1987.159975</td>\n",
       "      <td>14.796127</td>\n",
       "    </tr>\n",
       "    <tr>\n",
       "      <th>16</th>\n",
       "      <td>1968.919192</td>\n",
       "      <td>10.688473</td>\n",
       "      <td>1968.197838</td>\n",
       "      <td>15.330098</td>\n",
       "    </tr>\n",
       "    <tr>\n",
       "      <th>17</th>\n",
       "      <td>1982.208103</td>\n",
       "      <td>11.751696</td>\n",
       "      <td>1971.340356</td>\n",
       "      <td>15.862486</td>\n",
       "    </tr>\n",
       "    <tr>\n",
       "      <th>18</th>\n",
       "      <td>1968.311688</td>\n",
       "      <td>12.754804</td>\n",
       "      <td>1976.134472</td>\n",
       "      <td>17.261359</td>\n",
       "    </tr>\n",
       "    <tr>\n",
       "      <th>19</th>\n",
       "      <td>1968.767717</td>\n",
       "      <td>10.257877</td>\n",
       "      <td>1966.024655</td>\n",
       "      <td>17.175468</td>\n",
       "    </tr>\n",
       "    <tr>\n",
       "      <th>20</th>\n",
       "      <td>1982.967638</td>\n",
       "      <td>17.619322</td>\n",
       "      <td>1984.227048</td>\n",
       "      <td>16.014976</td>\n",
       "    </tr>\n",
       "    <tr>\n",
       "      <th>21</th>\n",
       "      <td>1958.606557</td>\n",
       "      <td>10.452940</td>\n",
       "      <td>1980.558122</td>\n",
       "      <td>16.306334</td>\n",
       "    </tr>\n",
       "    <tr>\n",
       "      <th>22</th>\n",
       "      <td>1974.513369</td>\n",
       "      <td>15.951622</td>\n",
       "      <td>1982.036216</td>\n",
       "      <td>16.079429</td>\n",
       "    </tr>\n",
       "    <tr>\n",
       "      <th>23</th>\n",
       "      <td>1970.574822</td>\n",
       "      <td>16.436370</td>\n",
       "      <td>1972.838354</td>\n",
       "      <td>17.162311</td>\n",
       "    </tr>\n",
       "    <tr>\n",
       "      <th>24</th>\n",
       "      <td>1971.255102</td>\n",
       "      <td>4.768080</td>\n",
       "      <td>1974.552589</td>\n",
       "      <td>17.190278</td>\n",
       "    </tr>\n",
       "    <tr>\n",
       "      <th>25</th>\n",
       "      <td>1984.476415</td>\n",
       "      <td>13.054873</td>\n",
       "      <td>1967.642045</td>\n",
       "      <td>16.624560</td>\n",
       "    </tr>\n",
       "    <tr>\n",
       "      <th>26</th>\n",
       "      <td>1976.193662</td>\n",
       "      <td>17.035024</td>\n",
       "      <td>1980.203065</td>\n",
       "      <td>15.843458</td>\n",
       "    </tr>\n",
       "    <tr>\n",
       "      <th>27</th>\n",
       "      <td>1973.508065</td>\n",
       "      <td>17.381872</td>\n",
       "      <td>1981.600644</td>\n",
       "      <td>16.210886</td>\n",
       "    </tr>\n",
       "    <tr>\n",
       "      <th>28</th>\n",
       "      <td>1979.918006</td>\n",
       "      <td>16.885845</td>\n",
       "      <td>1970.381975</td>\n",
       "      <td>14.137993</td>\n",
       "    </tr>\n",
       "    <tr>\n",
       "      <th>29</th>\n",
       "      <td>1971.981221</td>\n",
       "      <td>4.803657</td>\n",
       "      <td>1970.800328</td>\n",
       "      <td>16.358874</td>\n",
       "    </tr>\n",
       "    <tr>\n",
       "      <th>30</th>\n",
       "      <td>1954.659498</td>\n",
       "      <td>13.203533</td>\n",
       "      <td>1969.110713</td>\n",
       "      <td>16.394865</td>\n",
       "    </tr>\n",
       "    <tr>\n",
       "      <th>31</th>\n",
       "      <td>1982.678729</td>\n",
       "      <td>16.777937</td>\n",
       "      <td>1975.151560</td>\n",
       "      <td>16.770095</td>\n",
       "    </tr>\n",
       "    <tr>\n",
       "      <th>32</th>\n",
       "      <td>1969.789474</td>\n",
       "      <td>10.908287</td>\n",
       "      <td>1975.400073</td>\n",
       "      <td>16.413965</td>\n",
       "    </tr>\n",
       "    <tr>\n",
       "      <th>33</th>\n",
       "      <td>1958.642487</td>\n",
       "      <td>15.141749</td>\n",
       "      <td>1980.237492</td>\n",
       "      <td>16.714091</td>\n",
       "    </tr>\n",
       "    <tr>\n",
       "      <th>34</th>\n",
       "      <td>1974.444782</td>\n",
       "      <td>15.014521</td>\n",
       "      <td>1977.655343</td>\n",
       "      <td>16.680290</td>\n",
       "    </tr>\n",
       "    <tr>\n",
       "      <th>35</th>\n",
       "      <td>1986.520202</td>\n",
       "      <td>11.841041</td>\n",
       "      <td>1977.349181</td>\n",
       "      <td>17.270222</td>\n",
       "    </tr>\n",
       "    <tr>\n",
       "      <th>36</th>\n",
       "      <td>1991.699488</td>\n",
       "      <td>8.382530</td>\n",
       "      <td>1976.840212</td>\n",
       "      <td>17.167707</td>\n",
       "    </tr>\n",
       "    <tr>\n",
       "      <th>37</th>\n",
       "      <td>1991.400485</td>\n",
       "      <td>10.544417</td>\n",
       "      <td>1978.443964</td>\n",
       "      <td>18.266640</td>\n",
       "    </tr>\n",
       "    <tr>\n",
       "      <th>38</th>\n",
       "      <td>1994.028463</td>\n",
       "      <td>6.923615</td>\n",
       "      <td>1985.902736</td>\n",
       "      <td>15.088806</td>\n",
       "    </tr>\n",
       "    <tr>\n",
       "      <th>39</th>\n",
       "      <td>1964.791304</td>\n",
       "      <td>9.408372</td>\n",
       "      <td>1969.341966</td>\n",
       "      <td>15.248481</td>\n",
       "    </tr>\n",
       "    <tr>\n",
       "      <th>40</th>\n",
       "      <td>1980.000000</td>\n",
       "      <td>17.787568</td>\n",
       "      <td>1975.349696</td>\n",
       "      <td>17.430593</td>\n",
       "    </tr>\n",
       "    <tr>\n",
       "      <th>41</th>\n",
       "      <td>1956.339744</td>\n",
       "      <td>13.126149</td>\n",
       "      <td>1967.600603</td>\n",
       "      <td>14.398683</td>\n",
       "    </tr>\n",
       "    <tr>\n",
       "      <th>42</th>\n",
       "      <td>1975.121266</td>\n",
       "      <td>16.663693</td>\n",
       "      <td>1975.633300</td>\n",
       "      <td>15.618289</td>\n",
       "    </tr>\n",
       "    <tr>\n",
       "      <th>43</th>\n",
       "      <td>1960.213514</td>\n",
       "      <td>10.065925</td>\n",
       "      <td>1982.183601</td>\n",
       "      <td>16.789296</td>\n",
       "    </tr>\n",
       "    <tr>\n",
       "      <th>44</th>\n",
       "      <td>1958.140401</td>\n",
       "      <td>11.944811</td>\n",
       "      <td>1972.174579</td>\n",
       "      <td>16.116056</td>\n",
       "    </tr>\n",
       "    <tr>\n",
       "      <th>45</th>\n",
       "      <td>1968.099656</td>\n",
       "      <td>18.659204</td>\n",
       "      <td>1970.525688</td>\n",
       "      <td>16.958908</td>\n",
       "    </tr>\n",
       "    <tr>\n",
       "      <th>46</th>\n",
       "      <td>1987.090780</td>\n",
       "      <td>14.892903</td>\n",
       "      <td>1972.542925</td>\n",
       "      <td>17.668400</td>\n",
       "    </tr>\n",
       "    <tr>\n",
       "      <th>47</th>\n",
       "      <td>1966.573508</td>\n",
       "      <td>15.621061</td>\n",
       "      <td>1976.294041</td>\n",
       "      <td>17.246511</td>\n",
       "    </tr>\n",
       "    <tr>\n",
       "      <th>48</th>\n",
       "      <td>1970.403255</td>\n",
       "      <td>12.325527</td>\n",
       "      <td>1971.755898</td>\n",
       "      <td>16.342332</td>\n",
       "    </tr>\n",
       "    <tr>\n",
       "      <th>49</th>\n",
       "      <td>1974.580000</td>\n",
       "      <td>12.692743</td>\n",
       "      <td>1978.549016</td>\n",
       "      <td>17.268492</td>\n",
       "    </tr>\n",
       "  </tbody>\n",
       "</table>\n",
       "</div>"
      ],
      "text/plain": [
       "       stm_mean     stm_sd      ch_mean      ch_sd\n",
       "0   1966.684211  11.156888  1977.701620  18.530606\n",
       "1   1983.504298  12.480242  1968.023447  15.983128\n",
       "2   1964.066265   8.887041  1973.390667  14.301116\n",
       "3   1981.893750  13.012620  1979.934018  16.577174\n",
       "4   1970.638298  15.438947  1974.918955  16.915496\n",
       "5   1989.756532  11.307668  1977.221960  17.520710\n",
       "6   1968.268293  10.671352  1975.867802  17.637467\n",
       "7   1971.071685   6.318457  1977.901962  17.410520\n",
       "8   1969.400510   6.810951  1971.220002  13.847246\n",
       "9   1967.239845  18.550280  1971.466784  11.564397\n",
       "10  1972.117647  17.956104  1978.176012  15.726005\n",
       "11  1982.409539  13.477727  1971.291652  18.653106\n",
       "12  1970.174383  19.067411  1969.730044  15.322630\n",
       "13  1983.659259   9.254086  1976.481638  17.013342\n",
       "14  1981.176471   9.324259  1978.374644  17.610482\n",
       "15  1981.412556  17.169012  1987.159975  14.796127\n",
       "16  1968.919192  10.688473  1968.197838  15.330098\n",
       "17  1982.208103  11.751696  1971.340356  15.862486\n",
       "18  1968.311688  12.754804  1976.134472  17.261359\n",
       "19  1968.767717  10.257877  1966.024655  17.175468\n",
       "20  1982.967638  17.619322  1984.227048  16.014976\n",
       "21  1958.606557  10.452940  1980.558122  16.306334\n",
       "22  1974.513369  15.951622  1982.036216  16.079429\n",
       "23  1970.574822  16.436370  1972.838354  17.162311\n",
       "24  1971.255102   4.768080  1974.552589  17.190278\n",
       "25  1984.476415  13.054873  1967.642045  16.624560\n",
       "26  1976.193662  17.035024  1980.203065  15.843458\n",
       "27  1973.508065  17.381872  1981.600644  16.210886\n",
       "28  1979.918006  16.885845  1970.381975  14.137993\n",
       "29  1971.981221   4.803657  1970.800328  16.358874\n",
       "30  1954.659498  13.203533  1969.110713  16.394865\n",
       "31  1982.678729  16.777937  1975.151560  16.770095\n",
       "32  1969.789474  10.908287  1975.400073  16.413965\n",
       "33  1958.642487  15.141749  1980.237492  16.714091\n",
       "34  1974.444782  15.014521  1977.655343  16.680290\n",
       "35  1986.520202  11.841041  1977.349181  17.270222\n",
       "36  1991.699488   8.382530  1976.840212  17.167707\n",
       "37  1991.400485  10.544417  1978.443964  18.266640\n",
       "38  1994.028463   6.923615  1985.902736  15.088806\n",
       "39  1964.791304   9.408372  1969.341966  15.248481\n",
       "40  1980.000000  17.787568  1975.349696  17.430593\n",
       "41  1956.339744  13.126149  1967.600603  14.398683\n",
       "42  1975.121266  16.663693  1975.633300  15.618289\n",
       "43  1960.213514  10.065925  1982.183601  16.789296\n",
       "44  1958.140401  11.944811  1972.174579  16.116056\n",
       "45  1968.099656  18.659204  1970.525688  16.958908\n",
       "46  1987.090780  14.892903  1972.542925  17.668400\n",
       "47  1966.573508  15.621061  1976.294041  17.246511\n",
       "48  1970.403255  12.325527  1971.755898  16.342332\n",
       "49  1974.580000  12.692743  1978.549016  17.268492"
      ]
     },
     "execution_count": 127,
     "metadata": {},
     "output_type": "execute_result"
    }
   ],
   "source": [
    "res"
   ]
  },
  {
   "cell_type": "code",
   "execution_count": 126,
   "metadata": {
    "collapsed": true,
    "jupyter": {
     "outputs_hidden": true
    }
   },
   "outputs": [
    {
     "name": "stdout",
     "output_type": "stream",
     "text": [
      "1974.0178427072397\n"
     ]
    },
    {
     "data": {
      "text/plain": [
       "<AxesSubplot:>"
      ]
     },
     "execution_count": 126,
     "metadata": {},
     "output_type": "execute_result"
    },
    {
     "data": {
      "image/png": "[encoded data removed]",
      "text/plain": [
       "<Figure size 432x288 with 1 Axes>"
      ]
     },
     "metadata": {
      "needs_background": "light"
     },
     "output_type": "display_data"
    }
   ],
   "source": [
    "print(res.stm_mean.mean())\n",
    "res.stm_mean.hist()"
   ]
  },
  {
   "cell_type": "code",
   "execution_count": 128,
   "metadata": {
    "collapsed": true,
    "jupyter": {
     "outputs_hidden": true
    }
   },
   "outputs": [
    {
     "name": "stdout",
     "output_type": "stream",
     "text": [
      "1975.2688295214116\n"
     ]
    },
    {
     "data": {
      "text/plain": [
       "<AxesSubplot:>"
      ]
     },
     "execution_count": 128,
     "metadata": {},
     "output_type": "execute_result"
    },
    {
     "data": {
      "image/png": "[encoded data removed]",
      "text/plain": [
       "<Figure size 432x288 with 1 Axes>"
      ]
     },
     "metadata": {
      "needs_background": "light"
     },
     "output_type": "display_data"
    }
   ],
   "source": [
    "print(res.ch_mean.mean())\n",
    "res.ch_mean.hist()"
   ]
  },
  {
   "cell_type": "markdown",
   "metadata": {},
   "source": [
    "## Standard Deviation"
   ]
  },
  {
   "cell_type": "markdown",
   "metadata": {},
   "source": [
    "STM 会抓住更微观的topic，同时也会抓住宏观的topic"
   ]
  },
  {
   "cell_type": "code",
   "execution_count": 131,
   "metadata": {
    "collapsed": true,
    "jupyter": {
     "outputs_hidden": true
    }
   },
   "outputs": [
    {
     "name": "stdout",
     "output_type": "stream",
     "text": [
      "12.853021788483318\n"
     ]
    },
    {
     "data": {
      "text/plain": [
       "<AxesSubplot:>"
      ]
     },
     "execution_count": 131,
     "metadata": {},
     "output_type": "execute_result"
    },
    {
     "data": {
      "image/png": "[encoded data removed]",
      "text/plain": [
       "<Figure size 432x288 with 1 Axes>"
      ]
     },
     "metadata": {
      "needs_background": "light"
     },
     "output_type": "display_data"
    }
   ],
   "source": [
    "print(res.stm_sd.mean())\n",
    "res.stm_sd.hist() "
   ]
  },
  {
   "cell_type": "code",
   "execution_count": 130,
   "metadata": {
    "collapsed": true,
    "jupyter": {
     "outputs_hidden": true
    }
   },
   "outputs": [
    {
     "name": "stdout",
     "output_type": "stream",
     "text": [
      "16.376415682326595\n"
     ]
    },
    {
     "data": {
      "text/plain": [
       "<AxesSubplot:>"
      ]
     },
     "execution_count": 130,
     "metadata": {},
     "output_type": "execute_result"
    },
    {
     "data": {
      "image/png": "[encoded data removed]",
      "text/plain": [
       "<Figure size 432x288 with 1 Axes>"
      ]
     },
     "metadata": {
      "needs_background": "light"
     },
     "output_type": "display_data"
    }
   ],
   "source": [
    "print(res.ch_sd.mean()) \n",
    "res.ch_sd.hist() "
   ]
  },
  {
   "cell_type": "code",
   "execution_count": 149,
   "metadata": {},
   "outputs": [
    {
     "data": {
      "image/png": "[encoded data removed]",
      "text/plain": [
       "<Figure size 432x288 with 1 Axes>"
      ]
     },
     "metadata": {
      "needs_background": "light"
     },
     "output_type": "display_data"
    }
   ],
   "source": [
    "import matplotlib.pyplot as plt\n",
    "\n",
    "x = res.ch_mean\n",
    "y = res.stm_mean\n",
    "\n",
    "bins = np.linspace(1950, 2000, 50)\n",
    "\n",
    "plt.hist(x, bins, alpha=0.5, label='raw TM')\n",
    "plt.hist(y, bins, alpha=0.5, label='structural TM')\n",
    "plt.legend(loc='upper left')\n",
    "plt.title('Distribution of mean document year in each topic')\n",
    "plt.show()"
   ]
  },
  {
   "cell_type": "code",
   "execution_count": 148,
   "metadata": {},
   "outputs": [
    {
     "data": {
      "image/png": "[encoded data removed]",
      "text/plain": [
       "<Figure size 432x288 with 1 Axes>"
      ]
     },
     "metadata": {
      "needs_background": "light"
     },
     "output_type": "display_data"
    }
   ],
   "source": [
    "import matplotlib.pyplot as plt\n",
    "\n",
    "x = res.ch_sd\n",
    "y = res.stm_sd\n",
    "\n",
    "bins = np.linspace(5, 20, 50)\n",
    "\n",
    "plt.hist(x, bins, alpha=0.5, label='raw TM')\n",
    "plt.hist(y, bins, alpha=0.5, label='structural TM')\n",
    "plt.legend(loc='upper left')\n",
    "plt.title('Distribution of document time std in each topic')\n",
    "plt.show()"
   ]
  },
  {
   "cell_type": "markdown",
   "metadata": {},
   "source": [
    "## word distribution: capture more general words"
   ]
  },
  {
   "cell_type": "code",
   "execution_count": null,
   "metadata": {},
   "outputs": [],
   "source": []
  },
  {
   "cell_type": "code",
   "execution_count": null,
   "metadata": {},
   "outputs": [],
   "source": []
  },
  {
   "cell_type": "code",
   "execution_count": null,
   "metadata": {},
   "outputs": [],
   "source": []
  }
 ],
 "metadata": {
  "kernelspec": {
   "display_name": "Python 3",
   "language": "python",
   "name": "python3"
  },
  "language_info": {
   "codemirror_mode": {
    "name": "ipython",
    "version": 3
   },
   "file_extension": ".py",
   "mimetype": "text/x-python",
   "name": "python",
   "nbconvert_exporter": "python",
   "pygments_lexer": "ipython3",
   "version": "3.8.5"
  }
 },
 "nbformat": 4,
 "nbformat_minor": 4
}
