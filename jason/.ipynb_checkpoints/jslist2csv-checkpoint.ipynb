{
 "cells": [
  {
   "cell_type": "code",
   "execution_count": 3,
   "metadata": {},
   "outputs": [
    {
     "name": "stderr",
     "output_type": "stream",
     "text": [
      "1328390it [00:14, 92755.06it/s] \n"
     ]
    }
   ],
   "source": [
    "import json\n",
    "import tqdm\n",
    "\n",
    "file_path = '/Users/admin/Desktop/NLP-win-21/idea_relations/data/RMRB_all.jsonlist'\n",
    "jsList = []\n",
    "# with open('RMRB_5_each_month.jsonlist.txt') as f:\n",
    "with open(file_path) as f:\n",
    "    for jsonObj in tqdm.tqdm(f):\n",
    "        studentDict = json.loads(jsonObj)\n",
    "        jsList.append(studentDict)"
   ]
  },
  {
   "cell_type": "code",
   "execution_count": 3,
   "metadata": {},
   "outputs": [],
   "source": [
    "import pandas as pd"
   ]
  },
  {
   "cell_type": "code",
   "execution_count": 6,
   "metadata": {},
   "outputs": [],
   "source": [
    "a = pd.DataFrame(jsList)"
   ]
  },
  {
   "cell_type": "code",
   "execution_count": 8,
   "metadata": {},
   "outputs": [],
   "source": [
    "# a['text'] = a.text.apply(lambda t: t.replace('\\r', ' '))\n",
    "a['date'] = a.date.apply(int)"
   ]
  },
  {
   "cell_type": "code",
   "execution_count": 9,
   "metadata": {},
   "outputs": [],
   "source": [
    "a.to_csv('rmrb_full_df-V1.csv')"
   ]
  },
  {
   "cell_type": "code",
   "execution_count": 36,
   "metadata": {},
   "outputs": [],
   "source": [
    "a.iloc[::2, :].to_csv('sample_df-V1.csv', index=False)"
   ]
  },
  {
   "cell_type": "markdown",
   "metadata": {},
   "source": [
    "## Vocab Prune by freq"
   ]
  },
  {
   "cell_type": "code",
   "execution_count": 6,
   "metadata": {},
   "outputs": [],
   "source": [
    "import gensim, nltk, tqdm "
   ]
  },
  {
   "cell_type": "code",
   "execution_count": 4,
   "metadata": {},
   "outputs": [],
   "source": [
    "a = pd.read_csv('/Users/admin/Desktop/NLP-win-21/idea_relations/data/rmrb_full_df-V1.csv')"
   ]
  },
  {
   "cell_type": "code",
   "execution_count": 52,
   "metadata": {},
   "outputs": [],
   "source": [
    "fq = nltk.FreqDist(a.text.str.cat(sep=' ').split())"
   ]
  },
  {
   "cell_type": "code",
   "execution_count": null,
   "metadata": {},
   "outputs": [],
   "source": [
    "import pickle\n",
    "# ...\n",
    "with open('/Users/admin/Desktop/NLP-win-21/idea_relations/data/rmrb_all_FreqDist.pickle', 'wb') as f:\n",
    "    # Pickle the 'data' dictionary using the highest protocol available.\n",
    "    pickle.dump(dict(fq), f, pickle.HIGHEST_PROTOCOL)\n"
   ]
  },
  {
   "cell_type": "code",
   "execution_count": null,
   "metadata": {},
   "outputs": [],
   "source": [
    "pd.DataFrame(dict(fq)).to_csv('/Users/admin/Desktop/NLP-win-21/idea_relations/data/stm_data')\n"
   ]
  },
  {
   "cell_type": "code",
   "execution_count": 17,
   "metadata": {},
   "outputs": [
    {
     "data": {
      "text/plain": [
       "nltk.probability.FreqDist"
      ]
     },
     "execution_count": 17,
     "metadata": {},
     "output_type": "execute_result"
    }
   ],
   "source": [
    "type(fq)"
   ]
  },
  {
   "cell_type": "code",
   "execution_count": null,
   "metadata": {},
   "outputs": [],
   "source": [
    "upper_thres = int(a.shape[0] * .7)\n",
    "lower_thres = 10 \n",
    "\n",
    "for i in tqdm.tqdm(range(a.shape[0])):\n",
    "    a.iloc[i] = a.iloc[i].text"
   ]
  },
  {
   "cell_type": "markdown",
   "metadata": {},
   "source": [
    "# 来搞事情"
   ]
  },
  {
   "cell_type": "code",
   "execution_count": 38,
   "metadata": {},
   "outputs": [
    {
     "data": {
      "text/plain": [
       "'百分之三 百分之十左右 不能不 大革命 大踏步 代表团 二十八 二十五年 二十余年 分不开 改善生活 工人阶级 工业部 国民党 化学工业 机器设备 基本上 坚决执行 解放区 六个月 六十岁 六十五 明文规定 千分之 全世界 人民政权 三十年 社会主义 身体健康 十六日 实际上 四十年 突飞猛进 五十岁 新华社 新民主主义 养老金 一部分 一九二 一九二七年 英勇斗争 支援前线 殖民地 致力于 资本家 资本主义 资产阶级'"
      ]
     },
     "execution_count": 38,
     "metadata": {},
     "output_type": "execute_result"
    }
   ],
   "source": [
    "\"\\u767e\\u5206\\u4e4b\\u4e09 \\u767e\\u5206\\u4e4b\\u5341\\u5de6\\u53f3 \\u4e0d\\u80fd\\u4e0d \\u5927\\u9769\\u547d \\u5927\\u8e0f\\u6b65 \\u4ee3\\u8868\\u56e2 \\u4e8c\\u5341\\u516b \\u4e8c\\u5341\\u4e94\\u5e74 \\u4e8c\\u5341\\u4f59\\u5e74 \\u5206\\u4e0d\\u5f00 \\u6539\\u5584\\u751f\\u6d3b \\u5de5\\u4eba\\u9636\\u7ea7 \\u5de5\\u4e1a\\u90e8 \\u56fd\\u6c11\\u515a \\u5316\\u5b66\\u5de5\\u4e1a \\u673a\\u5668\\u8bbe\\u5907 \\u57fa\\u672c\\u4e0a \\u575a\\u51b3\\u6267\\u884c \\u89e3\\u653e\\u533a \\u516d\\u4e2a\\u6708 \\u516d\\u5341\\u5c81 \\u516d\\u5341\\u4e94 \\u660e\\u6587\\u89c4\\u5b9a \\u5343\\u5206\\u4e4b \\u5168\\u4e16\\u754c \\u4eba\\u6c11\\u653f\\u6743 \\u4e09\\u5341\\u5e74 \\u793e\\u4f1a\\u4e3b\\u4e49 \\u8eab\\u4f53\\u5065\\u5eb7 \\u5341\\u516d\\u65e5 \\u5b9e\\u9645\\u4e0a \\u56db\\u5341\\u5e74 \\u7a81\\u98de\\u731b\\u8fdb \\u4e94\\u5341\\u5c81 \\u65b0\\u534e\\u793e \\u65b0\\u6c11\\u4e3b\\u4e3b\\u4e49 \\u517b\\u8001\\u91d1 \\u4e00\\u90e8\\u5206 \\u4e00\\u4e5d\\u4e8c \\u4e00\\u4e5d\\u4e8c\\u4e03\\u5e74 \\u82f1\\u52c7\\u6597\\u4e89 \\u652f\\u63f4\\u524d\\u7ebf \\u6b96\\u6c11\\u5730 \\u81f4\\u529b\\u4e8e \\u8d44\\u672c\\u5bb6 \\u8d44\\u672c\\u4e3b\\u4e49 \\u8d44\\u4ea7\\u9636\\u7ea7\""
   ]
  },
  {
   "cell_type": "code",
   "execution_count": 39,
   "metadata": {},
   "outputs": [
    {
     "data": {
      "text/plain": [
       "'共产主义 阶级斗争 毛泽东 毛主席 贫下中农 社会主义 伟大领袖 委员会 文化大革命 资本主义'"
      ]
     },
     "execution_count": 39,
     "metadata": {},
     "output_type": "execute_result"
    }
   ],
   "source": [
    "\"\\u5171\\u4ea7\\u4e3b\\u4e49 \\u9636\\u7ea7\\u6597\\u4e89 \\u6bdb\\u6cfd\\u4e1c \\u6bdb\\u4e3b\\u5e2d \\u8d2b\\u4e0b\\u4e2d\\u519c \\u793e\\u4f1a\\u4e3b\\u4e49 \\u4f1f\\u5927\\u9886\\u8896 \\u59d4\\u5458\\u4f1a \\u6587\\u5316\\u5927\\u9769\\u547d \\u8d44\\u672c\\u4e3b\\u4e49\""
   ]
  }
 ],
 "metadata": {
  "kernelspec": {
   "display_name": "Python 3",
   "language": "python",
   "name": "python3"
  },
  "language_info": {
   "codemirror_mode": {
    "name": "ipython",
    "version": 3
   },
   "file_extension": ".py",
   "mimetype": "text/x-python",
   "name": "python",
   "nbconvert_exporter": "python",
   "pygments_lexer": "ipython3",
   "version": "3.8.5"
  }
 },
 "nbformat": 4,
 "nbformat_minor": 4
}
